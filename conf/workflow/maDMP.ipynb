{
    "cells": [
        {
            "cell_type": "markdown",
            "metadata": {},
            "source": [
                "# 研究分野に固有のフローを選択する\n",
                "\n",
                "このセクションでは、DMPに入力いただいた研究分野に基づき、分野固有のフローを選択する処理を定義しています。\n",
                "以下のセルを実行することで、DMP入力の際に選択いただいた分野以外のフローが削除されます。"
            ]
        },
        {
            "cell_type": "code",
            "execution_count": null,
            "metadata": {
                "scrolled": true,
                "trusted": true
            },
            "outputs": [],
            "source": [
                "# DMP情報\n",
                "field = '%s'"
            ]
        },
        {
            "cell_type": "code",
            "execution_count": null,
            "metadata": {
                "scrolled": true,
                "trusted": true
            },
            "outputs": [],
            "source": [
                "# ワークフローテンプレート取得\n",
                "%sh\n",
                "git clone https://github.com/ivis-kuwata/workflow-template.git /home/jovyan/WORKFLOW\n",
                "rm -r /home/jovyan/WORKFLOW/.git"
            ]
        },
        {
            "cell_type": "code",
            "execution_count": null,
            "metadata": {
                "scrolled": true,
                "trusted": true
            },
            "outputs": [],
            "source": [
                "# dmp.jsonに\"fields\"プロパティがある想定\n",
                "import os\n",
                "import glob\n",
                "import shutil\n",
                "\n",
                "# 分野固有のフローの内、残すべきもののSetを作る\n",
                "set_fields = set()\n",
                "set_fields.add(field + '_FLOW.ipynb')\n",
                "\n",
                "# 分野固有テンプレートのSetを作る\n",
                "path_flows = os.path.join('WORKFLOW', 'FLOW')\n",
                "templates = glob.glob(os.path.join(path_sections, '**'), recursive=True)\n",
                "set_tmpl = set()\n",
                "for tmpl in templates:\n",
                "    file = os.path.basename(tmpl)\n",
                "    if not os.path.isdir(tmpl) and os.path.splitext(file)[1] == '.ipynb':\n",
                "        if os.path.splitext(file)[0] != 'base_FLOW':\n",
                "            set_tmpl.add(file)\n",
                "\n",
                "# 既存の分野固有テンプレートのSetと残すべきもののSetとの\n",
                "# 差集合をとり、削除すべきもののSetを作る\n",
                "delete_nbs = list(set_tmpl - set_fields)\n",
                "\n",
                "# 削除すべきもののSetを基に、不要なテンプレートを削除\n",
                "for delete_nb in delete_nbs:\n",
                "    del_path = os.path.join(path_flows, delete_nb)\n",
                "    os.remove(del_path)\n",
                "    print(\"[select_field_specific_flow] Succeed delete unneeded notebook: \" + delete_nb)\n"
            ]
        }
    ],
    "metadata": {
        "kernelspec": {
            "display_name": "Python 3",
            "language": "python",
            "name": "python3"
        },
        "language_info": {
            "codemirror_mode": {
                "name": "ipython",
                "version": 3
            },
            "file_extension": ".py",
            "mimetype": "text/x-python",
            "name": "python",
            "nbconvert_exporter": "python",
            "pygments_lexer": "ipython3",
            "version": "3.8.12"
        }
    },
    "nbformat": 4,
    "nbformat_minor": 2
}
